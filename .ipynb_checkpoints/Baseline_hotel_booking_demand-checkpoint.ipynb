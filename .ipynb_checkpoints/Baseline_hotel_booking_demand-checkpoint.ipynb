{
 "cells": [
  {
   "cell_type": "markdown",
   "metadata": {
    "id": "6dfpNQmSYoLh"
   },
   "source": [
    "# Базовое решение Задачи 2 \"Спрос на бронирование отелей\""
   ]
  },
  {
   "cell_type": "markdown",
   "metadata": {
    "id": "ymzo6h93YvO8"
   },
   "source": [
    "Данные содержат сведения о спросе на отели.Датасет содержит 119 390 наблюдений. Каждое наблюдение представляет собой бронирование отеля. Набор данных учитывает бронирования, которые должны прибыть в период с 1 июля 2015 года по 31 августа 2017 года, включая фактически поступившие и отмененные бронирования.\n",
    "\n",
    "Данные содержат сведения о **70 146** отелях.\n",
    "- Тренировочный набор - **44 634 строк**.\n",
    "- Тестовый набор - **25 512 строк**."
   ]
  },
  {
   "cell_type": "markdown",
   "metadata": {
    "id": "Gj2EZrPMi44I"
   },
   "source": [
    "## Считывание данных"
   ]
  },
  {
   "cell_type": "code",
   "execution_count": 2,
   "metadata": {
    "id": "4FcJiGtaY3ZK"
   },
   "outputs": [],
   "source": [
    "# иморитирование всех необходимых библиотек\n",
    "import pandas as pd\n",
    "import seaborn as sns\n",
    "import matplotlib.pyplot as plt"
   ]
  },
  {
   "cell_type": "code",
   "execution_count": 3,
   "metadata": {
    "colab": {
     "base_uri": "https://localhost:8080/"
    },
    "id": "ONrDnkYzZVpR",
    "outputId": "3adfe65f-3e7b-4c5c-b4f8-702e36143b5f"
   },
   "outputs": [
    {
     "name": "stdout",
     "output_type": "stream",
     "text": [
      "Train dataset shape: (44638, 29)\n"
     ]
    }
   ],
   "source": [
    "# Считываем тренировочные данные\n",
    "train = pd.read_csv(\"train_final.csv\")\n",
    "\n",
    "print(f\"Train dataset shape: {train.shape}\")"
   ]
  },
  {
   "cell_type": "code",
   "execution_count": 4,
   "metadata": {
    "colab": {
     "base_uri": "https://localhost:8080/"
    },
    "id": "zxX61HYrbFbf",
    "outputId": "1790dd26-4f25-49f2-94ce-f35285dce882"
   },
   "outputs": [
    {
     "name": "stdout",
     "output_type": "stream",
     "text": [
      "Test dataset shape: (23525, 28)\n"
     ]
    }
   ],
   "source": [
    "# Считываем тестовые данные\n",
    "test = pd.read_csv(\"test_final.csv\")\n",
    "\n",
    "print(f\"Test dataset shape: {test.shape}\")"
   ]
  },
  {
   "cell_type": "code",
   "execution_count": 5,
   "metadata": {
    "colab": {
     "base_uri": "https://localhost:8080/",
     "height": 386
    },
    "id": "HObyO7yYbWT5",
    "outputId": "55b5e632-bf49-4af6-f252-b2360256f4a3"
   },
   "outputs": [
    {
     "data": {
      "text/html": [
       "<div>\n",
       "<style scoped>\n",
       "    .dataframe tbody tr th:only-of-type {\n",
       "        vertical-align: middle;\n",
       "    }\n",
       "\n",
       "    .dataframe tbody tr th {\n",
       "        vertical-align: top;\n",
       "    }\n",
       "\n",
       "    .dataframe thead th {\n",
       "        text-align: right;\n",
       "    }\n",
       "</style>\n",
       "<table border=\"1\" class=\"dataframe\">\n",
       "  <thead>\n",
       "    <tr style=\"text-align: right;\">\n",
       "      <th></th>\n",
       "      <th>hotel</th>\n",
       "      <th>is_canceled</th>\n",
       "      <th>lead_time</th>\n",
       "      <th>arrival_date_year</th>\n",
       "      <th>arrival_date_month</th>\n",
       "      <th>arrival_date_week_number</th>\n",
       "      <th>arrival_date_day_of_month</th>\n",
       "      <th>stays_in_weekend_nights</th>\n",
       "      <th>stays_in_week_nights</th>\n",
       "      <th>adults</th>\n",
       "      <th>...</th>\n",
       "      <th>reserved_room_type</th>\n",
       "      <th>assigned_room_type</th>\n",
       "      <th>booking_changes</th>\n",
       "      <th>deposit_type</th>\n",
       "      <th>days_in_waiting_list</th>\n",
       "      <th>customer_type</th>\n",
       "      <th>adr</th>\n",
       "      <th>required_car_parking_spaces</th>\n",
       "      <th>total_of_special_requests</th>\n",
       "      <th>reservation_status_date</th>\n",
       "    </tr>\n",
       "  </thead>\n",
       "  <tbody>\n",
       "    <tr>\n",
       "      <th>0</th>\n",
       "      <td>Resort Hotel</td>\n",
       "      <td>0</td>\n",
       "      <td>3</td>\n",
       "      <td>2016</td>\n",
       "      <td>February</td>\n",
       "      <td>7</td>\n",
       "      <td>12</td>\n",
       "      <td>0</td>\n",
       "      <td>2</td>\n",
       "      <td>2</td>\n",
       "      <td>...</td>\n",
       "      <td>E</td>\n",
       "      <td>F</td>\n",
       "      <td>0</td>\n",
       "      <td>No Deposit</td>\n",
       "      <td>0</td>\n",
       "      <td>Transient</td>\n",
       "      <td>81.0</td>\n",
       "      <td>1</td>\n",
       "      <td>0</td>\n",
       "      <td>2016-02-14</td>\n",
       "    </tr>\n",
       "    <tr>\n",
       "      <th>1</th>\n",
       "      <td>City Hotel</td>\n",
       "      <td>1</td>\n",
       "      <td>50</td>\n",
       "      <td>2016</td>\n",
       "      <td>November</td>\n",
       "      <td>47</td>\n",
       "      <td>18</td>\n",
       "      <td>1</td>\n",
       "      <td>2</td>\n",
       "      <td>2</td>\n",
       "      <td>...</td>\n",
       "      <td>A</td>\n",
       "      <td>A</td>\n",
       "      <td>0</td>\n",
       "      <td>No Deposit</td>\n",
       "      <td>0</td>\n",
       "      <td>Transient</td>\n",
       "      <td>93.6</td>\n",
       "      <td>0</td>\n",
       "      <td>2</td>\n",
       "      <td>2016-10-09</td>\n",
       "    </tr>\n",
       "    <tr>\n",
       "      <th>2</th>\n",
       "      <td>City Hotel</td>\n",
       "      <td>0</td>\n",
       "      <td>14</td>\n",
       "      <td>2015</td>\n",
       "      <td>September</td>\n",
       "      <td>37</td>\n",
       "      <td>7</td>\n",
       "      <td>1</td>\n",
       "      <td>5</td>\n",
       "      <td>2</td>\n",
       "      <td>...</td>\n",
       "      <td>F</td>\n",
       "      <td>F</td>\n",
       "      <td>0</td>\n",
       "      <td>No Deposit</td>\n",
       "      <td>0</td>\n",
       "      <td>Contract</td>\n",
       "      <td>166.0</td>\n",
       "      <td>0</td>\n",
       "      <td>3</td>\n",
       "      <td>2015-09-13</td>\n",
       "    </tr>\n",
       "    <tr>\n",
       "      <th>3</th>\n",
       "      <td>City Hotel</td>\n",
       "      <td>0</td>\n",
       "      <td>18</td>\n",
       "      <td>2015</td>\n",
       "      <td>December</td>\n",
       "      <td>50</td>\n",
       "      <td>6</td>\n",
       "      <td>2</td>\n",
       "      <td>0</td>\n",
       "      <td>2</td>\n",
       "      <td>...</td>\n",
       "      <td>A</td>\n",
       "      <td>A</td>\n",
       "      <td>0</td>\n",
       "      <td>No Deposit</td>\n",
       "      <td>0</td>\n",
       "      <td>Transient</td>\n",
       "      <td>107.0</td>\n",
       "      <td>0</td>\n",
       "      <td>0</td>\n",
       "      <td>2015-12-08</td>\n",
       "    </tr>\n",
       "    <tr>\n",
       "      <th>4</th>\n",
       "      <td>City Hotel</td>\n",
       "      <td>1</td>\n",
       "      <td>263</td>\n",
       "      <td>2016</td>\n",
       "      <td>September</td>\n",
       "      <td>40</td>\n",
       "      <td>29</td>\n",
       "      <td>2</td>\n",
       "      <td>4</td>\n",
       "      <td>2</td>\n",
       "      <td>...</td>\n",
       "      <td>A</td>\n",
       "      <td>A</td>\n",
       "      <td>0</td>\n",
       "      <td>No Deposit</td>\n",
       "      <td>0</td>\n",
       "      <td>Transient</td>\n",
       "      <td>100.3</td>\n",
       "      <td>0</td>\n",
       "      <td>0</td>\n",
       "      <td>2016-01-18</td>\n",
       "    </tr>\n",
       "  </tbody>\n",
       "</table>\n",
       "<p>5 rows × 29 columns</p>\n",
       "</div>"
      ],
      "text/plain": [
       "          hotel  is_canceled  lead_time  arrival_date_year arrival_date_month  \\\n",
       "0  Resort Hotel            0          3               2016           February   \n",
       "1    City Hotel            1         50               2016           November   \n",
       "2    City Hotel            0         14               2015          September   \n",
       "3    City Hotel            0         18               2015           December   \n",
       "4    City Hotel            1        263               2016          September   \n",
       "\n",
       "   arrival_date_week_number  arrival_date_day_of_month  \\\n",
       "0                         7                         12   \n",
       "1                        47                         18   \n",
       "2                        37                          7   \n",
       "3                        50                          6   \n",
       "4                        40                         29   \n",
       "\n",
       "   stays_in_weekend_nights  stays_in_week_nights  adults  ...  \\\n",
       "0                        0                     2       2  ...   \n",
       "1                        1                     2       2  ...   \n",
       "2                        1                     5       2  ...   \n",
       "3                        2                     0       2  ...   \n",
       "4                        2                     4       2  ...   \n",
       "\n",
       "   reserved_room_type  assigned_room_type booking_changes deposit_type  \\\n",
       "0                   E                   F               0   No Deposit   \n",
       "1                   A                   A               0   No Deposit   \n",
       "2                   F                   F               0   No Deposit   \n",
       "3                   A                   A               0   No Deposit   \n",
       "4                   A                   A               0   No Deposit   \n",
       "\n",
       "  days_in_waiting_list customer_type    adr  required_car_parking_spaces  \\\n",
       "0                    0     Transient   81.0                            1   \n",
       "1                    0     Transient   93.6                            0   \n",
       "2                    0      Contract  166.0                            0   \n",
       "3                    0     Transient  107.0                            0   \n",
       "4                    0     Transient  100.3                            0   \n",
       "\n",
       "   total_of_special_requests reservation_status_date  \n",
       "0                          0              2016-02-14  \n",
       "1                          2              2016-10-09  \n",
       "2                          3              2015-09-13  \n",
       "3                          0              2015-12-08  \n",
       "4                          0              2016-01-18  \n",
       "\n",
       "[5 rows x 29 columns]"
      ]
     },
     "execution_count": 5,
     "metadata": {},
     "output_type": "execute_result"
    }
   ],
   "source": [
    "# Посмотрим как выглядят данные\n",
    "train.head()"
   ]
  },
  {
   "cell_type": "markdown",
   "metadata": {
    "id": "0rWzZ_3QbaCz"
   },
   "source": [
    "## Исследование данных"
   ]
  },
  {
   "cell_type": "markdown",
   "metadata": {
    "id": "kEfYOHNIbdse"
   },
   "source": [
    "Прежде чем переходить к непосредственному построению модели, в первую очередь необходимо исследовать имеющихся у вас набор данных:\n",
    "1. Какую задачу вы решаете (классификация, регрессия) и какая переменная является целевой?\n",
    "2. Сколько переменных в данных и какого они типа?\n",
    "3. Имеются ли в данных пропуски?"
   ]
  },
  {
   "cell_type": "code",
   "execution_count": 6,
   "metadata": {
    "colab": {
     "base_uri": "https://localhost:8080/"
    },
    "id": "NaKK3CesbeuU",
    "outputId": "e84a5cf9-5ad4-4e58-f9f8-136fc1b98147"
   },
   "outputs": [
    {
     "name": "stdout",
     "output_type": "stream",
     "text": [
      "Number of missing values in train dataset:\n",
      "hotel                             0\n",
      "is_canceled                       0\n",
      "lead_time                         0\n",
      "arrival_date_year                 0\n",
      "arrival_date_month                0\n",
      "arrival_date_week_number          0\n",
      "arrival_date_day_of_month         0\n",
      "stays_in_weekend_nights           0\n",
      "stays_in_week_nights              0\n",
      "adults                            0\n",
      "children                          0\n",
      "babies                            0\n",
      "meal                              0\n",
      "country                           0\n",
      "market_segment                    0\n",
      "distribution_channel              0\n",
      "is_repeated_guest                 0\n",
      "previous_cancellations            0\n",
      "previous_bookings_not_canceled    0\n",
      "reserved_room_type                0\n",
      "assigned_room_type                0\n",
      "booking_changes                   0\n",
      "deposit_type                      0\n",
      "days_in_waiting_list              0\n",
      "customer_type                     0\n",
      "adr                               0\n",
      "required_car_parking_spaces       0\n",
      "total_of_special_requests         0\n",
      "reservation_status_date           0\n",
      "dtype: int64\n",
      "Number of missing values in test dataset:\n",
      "hotel                             0\n",
      "lead_time                         0\n",
      "arrival_date_year                 0\n",
      "arrival_date_month                0\n",
      "arrival_date_week_number          0\n",
      "arrival_date_day_of_month         0\n",
      "stays_in_weekend_nights           0\n",
      "stays_in_week_nights              0\n",
      "adults                            0\n",
      "children                          0\n",
      "babies                            0\n",
      "meal                              0\n",
      "country                           0\n",
      "market_segment                    0\n",
      "distribution_channel              0\n",
      "is_repeated_guest                 0\n",
      "previous_cancellations            0\n",
      "previous_bookings_not_canceled    0\n",
      "reserved_room_type                0\n",
      "assigned_room_type                0\n",
      "booking_changes                   0\n",
      "deposit_type                      0\n",
      "days_in_waiting_list              0\n",
      "customer_type                     0\n",
      "adr                               0\n",
      "required_car_parking_spaces       0\n",
      "total_of_special_requests         0\n",
      "reservation_status_date           0\n",
      "dtype: int64\n"
     ]
    }
   ],
   "source": [
    "print(\"Number of missing values in train dataset:\")\n",
    "print(train.isna().sum())\n",
    "print(\"Number of missing values in test dataset:\")\n",
    "print(test.isna().sum())"
   ]
  },
  {
   "cell_type": "code",
   "execution_count": 7,
   "metadata": {
    "colab": {
     "base_uri": "https://localhost:8080/"
    },
    "id": "bazQvSFTbmP6",
    "outputId": "c1caa5bb-2def-4d9c-f878-21ce18894733"
   },
   "outputs": [
    {
     "name": "stdout",
     "output_type": "stream",
     "text": [
      "<class 'pandas.core.frame.DataFrame'>\n",
      "RangeIndex: 44638 entries, 0 to 44637\n",
      "Data columns (total 29 columns):\n",
      " #   Column                          Non-Null Count  Dtype  \n",
      "---  ------                          --------------  -----  \n",
      " 0   hotel                           44638 non-null  object \n",
      " 1   is_canceled                     44638 non-null  int64  \n",
      " 2   lead_time                       44638 non-null  int64  \n",
      " 3   arrival_date_year               44638 non-null  int64  \n",
      " 4   arrival_date_month              44638 non-null  object \n",
      " 5   arrival_date_week_number        44638 non-null  int64  \n",
      " 6   arrival_date_day_of_month       44638 non-null  int64  \n",
      " 7   stays_in_weekend_nights         44638 non-null  int64  \n",
      " 8   stays_in_week_nights            44638 non-null  int64  \n",
      " 9   adults                          44638 non-null  int64  \n",
      " 10  children                        44638 non-null  float64\n",
      " 11  babies                          44638 non-null  int64  \n",
      " 12  meal                            44638 non-null  object \n",
      " 13  country                         44638 non-null  object \n",
      " 14  market_segment                  44638 non-null  object \n",
      " 15  distribution_channel            44638 non-null  object \n",
      " 16  is_repeated_guest               44638 non-null  int64  \n",
      " 17  previous_cancellations          44638 non-null  int64  \n",
      " 18  previous_bookings_not_canceled  44638 non-null  int64  \n",
      " 19  reserved_room_type              44638 non-null  object \n",
      " 20  assigned_room_type              44638 non-null  object \n",
      " 21  booking_changes                 44638 non-null  int64  \n",
      " 22  deposit_type                    44638 non-null  object \n",
      " 23  days_in_waiting_list            44638 non-null  int64  \n",
      " 24  customer_type                   44638 non-null  object \n",
      " 25  adr                             44638 non-null  float64\n",
      " 26  required_car_parking_spaces     44638 non-null  int64  \n",
      " 27  total_of_special_requests       44638 non-null  int64  \n",
      " 28  reservation_status_date         44638 non-null  object \n",
      "dtypes: float64(2), int64(16), object(11)\n",
      "memory usage: 9.9+ MB\n"
     ]
    }
   ],
   "source": [
    "train.info()"
   ]
  },
  {
   "cell_type": "markdown",
   "metadata": {
    "id": "_YDWDh8XcI79"
   },
   "source": [
    "**Проверим баланс классов.**\n",
    "\n",
    "В задаче классификации данные называются несбалансированными (Imbalanced Data), если в обучающей выборке доли объектов разных классов существенно различаются, также говорят, что «классы не сбалансированы»."
   ]
  },
  {
   "cell_type": "code",
   "execution_count": 8,
   "metadata": {
    "colab": {
     "base_uri": "https://localhost:8080/"
    },
    "id": "gUlB5iR-b8-b",
    "outputId": "284396ab-dde0-4b71-d67e-8580af3c3a05"
   },
   "outputs": [
    {
     "data": {
      "text/plain": [
       "0    31354\n",
       "1    13284\n",
       "Name: is_canceled, dtype: int64"
      ]
     },
     "execution_count": 8,
     "metadata": {},
     "output_type": "execute_result"
    }
   ],
   "source": [
    "train['is_canceled'].value_counts()"
   ]
  },
  {
   "cell_type": "code",
   "execution_count": 10,
   "metadata": {
    "colab": {
     "base_uri": "https://localhost:8080/",
     "height": 285
    },
    "id": "jv-e5ow3dB6y",
    "outputId": "d28c676b-4a43-4a75-eb4a-66fc190ae7d6"
   },
   "outputs": [
    {
     "data": {
      "image/png": "[encoded data removed]",
      "text/plain": [
       "<Figure size 640x480 with 1 Axes>"
      ]
     },
     "metadata": {},
     "output_type": "display_data"
    }
   ],
   "source": [
    "sns.set(style=\"white\")\n",
    "sns.set(style=\"whitegrid\", color_codes=True)\n",
    "y_data = pd.DataFrame(train['is_canceled'])\n",
    "sns.countplot(x='is_canceled', data=y_data, palette='hls')\n",
    "plt.show()"
   ]
  },
  {
   "cell_type": "markdown",
   "metadata": {
    "id": "uAgv8_SCbrHo"
   },
   "source": [
    "## Предобработка данных"
   ]
  },
  {
   "cell_type": "markdown",
   "metadata": {
    "id": "XvLR4TMZbuns"
   },
   "source": [
    "Исходя из анализа данных, можно сделать выводы:\n",
    "- в данных пропусков нет\n",
    "- в данных имеются категориальные признаки\n",
    "- в задаче решается задача бинарной классификации"
   ]
  },
  {
   "cell_type": "markdown",
   "metadata": {
    "id": "0LHpErJTjTz7"
   },
   "source": [
    "### Кодирование признаков"
   ]
  },
  {
   "cell_type": "markdown",
   "metadata": {
    "id": "vRQYZJ2yjgS5"
   },
   "source": [
    "**Категориальные признаки называют по-разному: факторными, номинальными.**\n",
    "\n",
    "Их значения определяют факт принадлежности к какой-то категории. Примеры таких признаков: пол, страна проживания, номер группы, категория товаров и т.п. Ясно, что для компьютерной обработки вместо «понятного для человека» значения (в случае страны — ‘Russia’, ‘GB’, ‘France’ и т.п.) хранят числа. "
   ]
  },
  {
   "cell_type": "markdown",
   "metadata": {
    "id": "2g2tYEQfjkIV"
   },
   "source": [
    "**Категориальные** признаки называют по-разному: **факторными**, **номинальными**. Их значения определяют факт принадлежности к какой-то категории. \n",
    "\n",
    "Примеры таких признаков: пол, страна проживания, номер группы, категория товаров и т.п. Ясно, что для компьютерной обработки вместо «понятного для человека» значения (в случае страны — ‘Russia’, ‘GB’, ‘France’ и т.п.) хранят числа. \n",
    "\n",
    "Существуют разные способы кодирования категориальных признаков:\n",
    "1. Простейший кодировщий `sklearn.preprocessing.LabelEncoder`, который каждой категории сопоставляет некоторое целое число (собственно, номер категории).\n",
    "\n",
    "Например, существует категориальная переменная:\n",
    "\n",
    "```markdown\n",
    "   |  Статус вакцинации |\n",
    "---|--------------------|\n",
    "1  |    Вакцинирован    |\n",
    "2  |  Не вакцинирован   |\n",
    "3  |     Мед отвод      |\n",
    "4  |     Мед отвод      |\n",
    "5  |  Не вакцинирован   |\n",
    "6  |    Вакцинирован    |\n",
    "\n",
    "```\n",
    "\n",
    "После применения кодирования с помощью LabelEncoder получаем следущее (собственно он закодировал наши категориальные переменные: Вакцинирован = 0, Не вакцинирован = 1, Мед отвод = 2):\n",
    "\n",
    "```markdown\n",
    "   |  Статус вакцинации |\n",
    "---|--------------------|\n",
    "1  |         0          |\n",
    "2  |         1          |\n",
    "3  |         2          |\n",
    "4  |         2          |\n",
    "5  |         1          |\n",
    "6  |         0          |\n",
    "\n",
    "```"
   ]
  },
  {
   "cell_type": "markdown",
   "metadata": {
    "id": "EoyJ3Qzojkm_"
   },
   "source": [
    "2. Метод библиотеки Pandas:\n",
    "\n",
    "`pandas.get_dummies(data, prefix=None, prefix_sep='_', dummy_na=False, columns=None, sparse=False, drop_first=False, dtype=None)[source]`\n",
    "\n",
    "Например, существует категориальная переменная:\n",
    "\n",
    "```markdown\n",
    "   |  Статус вакцинации |\n",
    "---|--------------------|\n",
    "1  |    Вакцинирован    |\n",
    "2  |  Не вакцинирован   |\n",
    "3  |     Мед отвод      |\n",
    "4  |     Мед отвод      |\n",
    "5  |  Не вакцинирован   |\n",
    "6  |    Вакцинирован    |\n",
    "\n",
    "```\n",
    "\n",
    "Метод принимает категориальную переменную в качестве аргумента. Далее создает новую переменную для каждой категории, так что каждая фиктивная переменная содержит данные 1 или 0. 1 - указывает на наличие определенной категории и 0 - указывает на отсутствие этой категории.\n",
    "\n",
    "```markdown\n",
    "   | Статус вакцинации | Вакцинирован | Не вакцинирован | Мед отвод |\n",
    "---|-------------------|--------------|-----------------|-----------|\n",
    "1  |   Вакцинирован    |      1       |        0        |     0     |\n",
    "2  | Не вакцинирован   |      0       |        1        |     0     |\n",
    "3  |    Мед отвод      |      0       |        0        |     1     |\n",
    "4  |    Мед отвод      |      0       |        0        |     1     |\n",
    "5  | Не вакцинирован   |      0       |        1        |     0     |\n",
    "6  |   Вакцинирован    |      1       |        0        |     0     |\n",
    "\n",
    "```"
   ]
  },
  {
   "cell_type": "markdown",
   "metadata": {
    "id": "UkH4Lo2OjpNo"
   },
   "source": [
    "3. Кодировщик библиотеки Sklearn `from sklearn.preprocessing import OneHotEncoder`.\n",
    "\n",
    "По принципу работы действует точно также как get_dummies().\n",
    "\n",
    "Основное отличие - это кодировщик, т.е. это некоторая модель которая обучилась на данных, запомнила словарь и т.д., дальше может быть с этими параметры применяться к другому набору данных, к новым данным например.\n",
    "\n",
    "Get_dummies() - это просто метод класса, который по сути вы одноразово используете."
   ]
  },
  {
   "cell_type": "code",
   "execution_count": 11,
   "metadata": {
    "colab": {
     "base_uri": "https://localhost:8080/",
     "height": 424
    },
    "id": "z1IgSbAijx34",
    "outputId": "b99554a2-41f6-4c4b-ef19-3723cb9a90db"
   },
   "outputs": [
    {
     "data": {
      "text/html": [
       "<div>\n",
       "<style scoped>\n",
       "    .dataframe tbody tr th:only-of-type {\n",
       "        vertical-align: middle;\n",
       "    }\n",
       "\n",
       "    .dataframe tbody tr th {\n",
       "        vertical-align: top;\n",
       "    }\n",
       "\n",
       "    .dataframe thead th {\n",
       "        text-align: right;\n",
       "    }\n",
       "</style>\n",
       "<table border=\"1\" class=\"dataframe\">\n",
       "  <thead>\n",
       "    <tr style=\"text-align: right;\">\n",
       "      <th></th>\n",
       "      <th>hotel</th>\n",
       "      <th>arrival_date_month</th>\n",
       "      <th>meal</th>\n",
       "      <th>country</th>\n",
       "      <th>market_segment</th>\n",
       "      <th>distribution_channel</th>\n",
       "      <th>reserved_room_type</th>\n",
       "      <th>assigned_room_type</th>\n",
       "      <th>deposit_type</th>\n",
       "      <th>customer_type</th>\n",
       "      <th>reservation_status_date</th>\n",
       "    </tr>\n",
       "  </thead>\n",
       "  <tbody>\n",
       "    <tr>\n",
       "      <th>0</th>\n",
       "      <td>Resort Hotel</td>\n",
       "      <td>February</td>\n",
       "      <td>BB</td>\n",
       "      <td>PRT</td>\n",
       "      <td>Direct</td>\n",
       "      <td>Direct</td>\n",
       "      <td>E</td>\n",
       "      <td>F</td>\n",
       "      <td>No Deposit</td>\n",
       "      <td>Transient</td>\n",
       "      <td>2016-02-14</td>\n",
       "    </tr>\n",
       "    <tr>\n",
       "      <th>1</th>\n",
       "      <td>City Hotel</td>\n",
       "      <td>November</td>\n",
       "      <td>BB</td>\n",
       "      <td>BEL</td>\n",
       "      <td>Online TA</td>\n",
       "      <td>TA/TO</td>\n",
       "      <td>A</td>\n",
       "      <td>A</td>\n",
       "      <td>No Deposit</td>\n",
       "      <td>Transient</td>\n",
       "      <td>2016-10-09</td>\n",
       "    </tr>\n",
       "    <tr>\n",
       "      <th>2</th>\n",
       "      <td>City Hotel</td>\n",
       "      <td>September</td>\n",
       "      <td>BB</td>\n",
       "      <td>ITA</td>\n",
       "      <td>Online TA</td>\n",
       "      <td>TA/TO</td>\n",
       "      <td>F</td>\n",
       "      <td>F</td>\n",
       "      <td>No Deposit</td>\n",
       "      <td>Contract</td>\n",
       "      <td>2015-09-13</td>\n",
       "    </tr>\n",
       "    <tr>\n",
       "      <th>3</th>\n",
       "      <td>City Hotel</td>\n",
       "      <td>December</td>\n",
       "      <td>BB</td>\n",
       "      <td>ESP</td>\n",
       "      <td>Online TA</td>\n",
       "      <td>TA/TO</td>\n",
       "      <td>A</td>\n",
       "      <td>A</td>\n",
       "      <td>No Deposit</td>\n",
       "      <td>Transient</td>\n",
       "      <td>2015-12-08</td>\n",
       "    </tr>\n",
       "    <tr>\n",
       "      <th>4</th>\n",
       "      <td>City Hotel</td>\n",
       "      <td>September</td>\n",
       "      <td>BB</td>\n",
       "      <td>DEU</td>\n",
       "      <td>Online TA</td>\n",
       "      <td>TA/TO</td>\n",
       "      <td>A</td>\n",
       "      <td>A</td>\n",
       "      <td>No Deposit</td>\n",
       "      <td>Transient</td>\n",
       "      <td>2016-01-18</td>\n",
       "    </tr>\n",
       "    <tr>\n",
       "      <th>...</th>\n",
       "      <td>...</td>\n",
       "      <td>...</td>\n",
       "      <td>...</td>\n",
       "      <td>...</td>\n",
       "      <td>...</td>\n",
       "      <td>...</td>\n",
       "      <td>...</td>\n",
       "      <td>...</td>\n",
       "      <td>...</td>\n",
       "      <td>...</td>\n",
       "      <td>...</td>\n",
       "    </tr>\n",
       "    <tr>\n",
       "      <th>44633</th>\n",
       "      <td>City Hotel</td>\n",
       "      <td>June</td>\n",
       "      <td>BB</td>\n",
       "      <td>JPN</td>\n",
       "      <td>Online TA</td>\n",
       "      <td>TA/TO</td>\n",
       "      <td>D</td>\n",
       "      <td>D</td>\n",
       "      <td>No Deposit</td>\n",
       "      <td>Transient</td>\n",
       "      <td>2017-06-28</td>\n",
       "    </tr>\n",
       "    <tr>\n",
       "      <th>44634</th>\n",
       "      <td>Resort Hotel</td>\n",
       "      <td>September</td>\n",
       "      <td>BB</td>\n",
       "      <td>GBR</td>\n",
       "      <td>Online TA</td>\n",
       "      <td>TA/TO</td>\n",
       "      <td>E</td>\n",
       "      <td>F</td>\n",
       "      <td>No Deposit</td>\n",
       "      <td>Transient</td>\n",
       "      <td>2015-10-03</td>\n",
       "    </tr>\n",
       "    <tr>\n",
       "      <th>44635</th>\n",
       "      <td>City Hotel</td>\n",
       "      <td>April</td>\n",
       "      <td>SC</td>\n",
       "      <td>PRT</td>\n",
       "      <td>Online TA</td>\n",
       "      <td>TA/TO</td>\n",
       "      <td>A</td>\n",
       "      <td>A</td>\n",
       "      <td>No Deposit</td>\n",
       "      <td>Transient</td>\n",
       "      <td>2017-02-09</td>\n",
       "    </tr>\n",
       "    <tr>\n",
       "      <th>44636</th>\n",
       "      <td>City Hotel</td>\n",
       "      <td>September</td>\n",
       "      <td>HB</td>\n",
       "      <td>NOR</td>\n",
       "      <td>Offline TA/TO</td>\n",
       "      <td>TA/TO</td>\n",
       "      <td>A</td>\n",
       "      <td>A</td>\n",
       "      <td>No Deposit</td>\n",
       "      <td>Transient-Party</td>\n",
       "      <td>2016-09-12</td>\n",
       "    </tr>\n",
       "    <tr>\n",
       "      <th>44637</th>\n",
       "      <td>City Hotel</td>\n",
       "      <td>November</td>\n",
       "      <td>BB</td>\n",
       "      <td>PRT</td>\n",
       "      <td>Corporate</td>\n",
       "      <td>Corporate</td>\n",
       "      <td>A</td>\n",
       "      <td>A</td>\n",
       "      <td>No Deposit</td>\n",
       "      <td>Transient-Party</td>\n",
       "      <td>2015-11-18</td>\n",
       "    </tr>\n",
       "  </tbody>\n",
       "</table>\n",
       "<p>44638 rows × 11 columns</p>\n",
       "</div>"
      ],
      "text/plain": [
       "              hotel arrival_date_month meal country market_segment  \\\n",
       "0      Resort Hotel           February   BB     PRT         Direct   \n",
       "1        City Hotel           November   BB     BEL      Online TA   \n",
       "2        City Hotel          September   BB     ITA      Online TA   \n",
       "3        City Hotel           December   BB     ESP      Online TA   \n",
       "4        City Hotel          September   BB     DEU      Online TA   \n",
       "...             ...                ...  ...     ...            ...   \n",
       "44633    City Hotel               June   BB     JPN      Online TA   \n",
       "44634  Resort Hotel          September   BB     GBR      Online TA   \n",
       "44635    City Hotel              April   SC     PRT      Online TA   \n",
       "44636    City Hotel          September   HB     NOR  Offline TA/TO   \n",
       "44637    City Hotel           November   BB     PRT      Corporate   \n",
       "\n",
       "      distribution_channel reserved_room_type assigned_room_type deposit_type  \\\n",
       "0                   Direct                  E                  F   No Deposit   \n",
       "1                    TA/TO                  A                  A   No Deposit   \n",
       "2                    TA/TO                  F                  F   No Deposit   \n",
       "3                    TA/TO                  A                  A   No Deposit   \n",
       "4                    TA/TO                  A                  A   No Deposit   \n",
       "...                    ...                ...                ...          ...   \n",
       "44633                TA/TO                  D                  D   No Deposit   \n",
       "44634                TA/TO                  E                  F   No Deposit   \n",
       "44635                TA/TO                  A                  A   No Deposit   \n",
       "44636                TA/TO                  A                  A   No Deposit   \n",
       "44637            Corporate                  A                  A   No Deposit   \n",
       "\n",
       "         customer_type reservation_status_date  \n",
       "0            Transient              2016-02-14  \n",
       "1            Transient              2016-10-09  \n",
       "2             Contract              2015-09-13  \n",
       "3            Transient              2015-12-08  \n",
       "4            Transient              2016-01-18  \n",
       "...                ...                     ...  \n",
       "44633        Transient              2017-06-28  \n",
       "44634        Transient              2015-10-03  \n",
       "44635        Transient              2017-02-09  \n",
       "44636  Transient-Party              2016-09-12  \n",
       "44637  Transient-Party              2015-11-18  \n",
       "\n",
       "[44638 rows x 11 columns]"
      ]
     },
     "execution_count": 11,
     "metadata": {},
     "output_type": "execute_result"
    }
   ],
   "source": [
    "# Выбрем признаки, которые являются категориальными (строковыми)\n",
    "train.loc[:, train.dtypes == object]"
   ]
  },
  {
   "cell_type": "code",
   "execution_count": 12,
   "metadata": {
    "id": "rB60U_fJkfTS"
   },
   "outputs": [],
   "source": [
    "train = train.drop(columns=['reservation_status_date', 'country', 'assigned_room_type', 'reserved_room_type'])\n",
    "test = test.drop(columns=['reservation_status_date', 'country', 'assigned_room_type', 'reserved_room_type'])"
   ]
  },
  {
   "cell_type": "code",
   "execution_count": 13,
   "metadata": {
    "colab": {
     "base_uri": "https://localhost:8080/"
    },
    "id": "XkFzR34ZkRCA",
    "outputId": "d953a56c-92b9-481b-c4be-b4fb816d507c"
   },
   "outputs": [
    {
     "data": {
      "text/plain": [
       "Index(['hotel', 'arrival_date_month', 'meal', 'market_segment',\n",
       "       'distribution_channel', 'deposit_type', 'customer_type'],\n",
       "      dtype='object')"
      ]
     },
     "execution_count": 13,
     "metadata": {},
     "output_type": "execute_result"
    }
   ],
   "source": [
    "cat_features = train.loc[:, train.dtypes == object].columns\n",
    "cat_features"
   ]
  },
  {
   "cell_type": "code",
   "execution_count": 14,
   "metadata": {
    "colab": {
     "base_uri": "https://localhost:8080/"
    },
    "id": "A27E1dwakvx4",
    "outputId": "38315573-d81a-4263-b15c-41b931a524e6"
   },
   "outputs": [
    {
     "data": {
      "text/plain": [
       "City Hotel      29335\n",
       "Resort Hotel    15303\n",
       "Name: hotel, dtype: int64"
      ]
     },
     "execution_count": 14,
     "metadata": {},
     "output_type": "execute_result"
    }
   ],
   "source": [
    "train['hotel'].value_counts()"
   ]
  },
  {
   "cell_type": "code",
   "execution_count": 15,
   "metadata": {
    "colab": {
     "base_uri": "https://localhost:8080/"
    },
    "id": "xBlsgxCCkzxO",
    "outputId": "dc563e06-c59d-4a6c-d8d2-a35da6b6dcac"
   },
   "outputs": [
    {
     "data": {
      "text/plain": [
       "Online TA        21325\n",
       "Offline TA/TO     9085\n",
       "Groups            6868\n",
       "Direct            4922\n",
       "Corporate         2046\n",
       "Complementary      308\n",
       "Aviation            84\n",
       "Name: market_segment, dtype: int64"
      ]
     },
     "execution_count": 15,
     "metadata": {},
     "output_type": "execute_result"
    }
   ],
   "source": [
    "train['market_segment'].value_counts()"
   ]
  },
  {
   "cell_type": "code",
   "execution_count": 16,
   "metadata": {
    "colab": {
     "base_uri": "https://localhost:8080/"
    },
    "id": "fm-M8W91k6-o",
    "outputId": "768849a8-78b3-47e6-ef18-ad4832b4cce2"
   },
   "outputs": [
    {
     "data": {
      "text/plain": [
       "No Deposit    40235\n",
       "Non Refund     4339\n",
       "Refundable       64\n",
       "Name: deposit_type, dtype: int64"
      ]
     },
     "execution_count": 16,
     "metadata": {},
     "output_type": "execute_result"
    }
   ],
   "source": [
    "train['deposit_type'].value_counts()"
   ]
  },
  {
   "cell_type": "code",
   "execution_count": 17,
   "metadata": {
    "colab": {
     "base_uri": "https://localhost:8080/",
     "height": 386
    },
    "id": "5SPSD4WNjpsp",
    "outputId": "4d124e60-3b38-4b98-c474-1a8382ca41e4"
   },
   "outputs": [
    {
     "data": {
      "text/html": [
       "<div>\n",
       "<style scoped>\n",
       "    .dataframe tbody tr th:only-of-type {\n",
       "        vertical-align: middle;\n",
       "    }\n",
       "\n",
       "    .dataframe tbody tr th {\n",
       "        vertical-align: top;\n",
       "    }\n",
       "\n",
       "    .dataframe thead th {\n",
       "        text-align: right;\n",
       "    }\n",
       "</style>\n",
       "<table border=\"1\" class=\"dataframe\">\n",
       "  <thead>\n",
       "    <tr style=\"text-align: right;\">\n",
       "      <th></th>\n",
       "      <th>hotel</th>\n",
       "      <th>is_canceled</th>\n",
       "      <th>lead_time</th>\n",
       "      <th>arrival_date_year</th>\n",
       "      <th>arrival_date_month</th>\n",
       "      <th>arrival_date_week_number</th>\n",
       "      <th>arrival_date_day_of_month</th>\n",
       "      <th>stays_in_weekend_nights</th>\n",
       "      <th>stays_in_week_nights</th>\n",
       "      <th>adults</th>\n",
       "      <th>...</th>\n",
       "      <th>is_repeated_guest</th>\n",
       "      <th>previous_cancellations</th>\n",
       "      <th>previous_bookings_not_canceled</th>\n",
       "      <th>booking_changes</th>\n",
       "      <th>deposit_type</th>\n",
       "      <th>days_in_waiting_list</th>\n",
       "      <th>customer_type</th>\n",
       "      <th>adr</th>\n",
       "      <th>required_car_parking_spaces</th>\n",
       "      <th>total_of_special_requests</th>\n",
       "    </tr>\n",
       "  </thead>\n",
       "  <tbody>\n",
       "    <tr>\n",
       "      <th>0</th>\n",
       "      <td>Resort Hotel</td>\n",
       "      <td>0</td>\n",
       "      <td>3</td>\n",
       "      <td>2016</td>\n",
       "      <td>3</td>\n",
       "      <td>7</td>\n",
       "      <td>12</td>\n",
       "      <td>0</td>\n",
       "      <td>2</td>\n",
       "      <td>2</td>\n",
       "      <td>...</td>\n",
       "      <td>0</td>\n",
       "      <td>0</td>\n",
       "      <td>0</td>\n",
       "      <td>0</td>\n",
       "      <td>No Deposit</td>\n",
       "      <td>0</td>\n",
       "      <td>Transient</td>\n",
       "      <td>81.0</td>\n",
       "      <td>1</td>\n",
       "      <td>0</td>\n",
       "    </tr>\n",
       "    <tr>\n",
       "      <th>1</th>\n",
       "      <td>City Hotel</td>\n",
       "      <td>1</td>\n",
       "      <td>50</td>\n",
       "      <td>2016</td>\n",
       "      <td>9</td>\n",
       "      <td>47</td>\n",
       "      <td>18</td>\n",
       "      <td>1</td>\n",
       "      <td>2</td>\n",
       "      <td>2</td>\n",
       "      <td>...</td>\n",
       "      <td>0</td>\n",
       "      <td>0</td>\n",
       "      <td>0</td>\n",
       "      <td>0</td>\n",
       "      <td>No Deposit</td>\n",
       "      <td>0</td>\n",
       "      <td>Transient</td>\n",
       "      <td>93.6</td>\n",
       "      <td>0</td>\n",
       "      <td>2</td>\n",
       "    </tr>\n",
       "    <tr>\n",
       "      <th>2</th>\n",
       "      <td>City Hotel</td>\n",
       "      <td>0</td>\n",
       "      <td>14</td>\n",
       "      <td>2015</td>\n",
       "      <td>11</td>\n",
       "      <td>37</td>\n",
       "      <td>7</td>\n",
       "      <td>1</td>\n",
       "      <td>5</td>\n",
       "      <td>2</td>\n",
       "      <td>...</td>\n",
       "      <td>0</td>\n",
       "      <td>0</td>\n",
       "      <td>0</td>\n",
       "      <td>0</td>\n",
       "      <td>No Deposit</td>\n",
       "      <td>0</td>\n",
       "      <td>Contract</td>\n",
       "      <td>166.0</td>\n",
       "      <td>0</td>\n",
       "      <td>3</td>\n",
       "    </tr>\n",
       "    <tr>\n",
       "      <th>3</th>\n",
       "      <td>City Hotel</td>\n",
       "      <td>0</td>\n",
       "      <td>18</td>\n",
       "      <td>2015</td>\n",
       "      <td>2</td>\n",
       "      <td>50</td>\n",
       "      <td>6</td>\n",
       "      <td>2</td>\n",
       "      <td>0</td>\n",
       "      <td>2</td>\n",
       "      <td>...</td>\n",
       "      <td>0</td>\n",
       "      <td>0</td>\n",
       "      <td>0</td>\n",
       "      <td>0</td>\n",
       "      <td>No Deposit</td>\n",
       "      <td>0</td>\n",
       "      <td>Transient</td>\n",
       "      <td>107.0</td>\n",
       "      <td>0</td>\n",
       "      <td>0</td>\n",
       "    </tr>\n",
       "    <tr>\n",
       "      <th>4</th>\n",
       "      <td>City Hotel</td>\n",
       "      <td>1</td>\n",
       "      <td>263</td>\n",
       "      <td>2016</td>\n",
       "      <td>11</td>\n",
       "      <td>40</td>\n",
       "      <td>29</td>\n",
       "      <td>2</td>\n",
       "      <td>4</td>\n",
       "      <td>2</td>\n",
       "      <td>...</td>\n",
       "      <td>0</td>\n",
       "      <td>0</td>\n",
       "      <td>0</td>\n",
       "      <td>0</td>\n",
       "      <td>No Deposit</td>\n",
       "      <td>0</td>\n",
       "      <td>Transient</td>\n",
       "      <td>100.3</td>\n",
       "      <td>0</td>\n",
       "      <td>0</td>\n",
       "    </tr>\n",
       "  </tbody>\n",
       "</table>\n",
       "<p>5 rows × 25 columns</p>\n",
       "</div>"
      ],
      "text/plain": [
       "          hotel  is_canceled  lead_time  arrival_date_year  \\\n",
       "0  Resort Hotel            0          3               2016   \n",
       "1    City Hotel            1         50               2016   \n",
       "2    City Hotel            0         14               2015   \n",
       "3    City Hotel            0         18               2015   \n",
       "4    City Hotel            1        263               2016   \n",
       "\n",
       "   arrival_date_month  arrival_date_week_number  arrival_date_day_of_month  \\\n",
       "0                   3                         7                         12   \n",
       "1                   9                        47                         18   \n",
       "2                  11                        37                          7   \n",
       "3                   2                        50                          6   \n",
       "4                  11                        40                         29   \n",
       "\n",
       "   stays_in_weekend_nights  stays_in_week_nights  adults  ...  \\\n",
       "0                        0                     2       2  ...   \n",
       "1                        1                     2       2  ...   \n",
       "2                        1                     5       2  ...   \n",
       "3                        2                     0       2  ...   \n",
       "4                        2                     4       2  ...   \n",
       "\n",
       "   is_repeated_guest  previous_cancellations previous_bookings_not_canceled  \\\n",
       "0                  0                       0                              0   \n",
       "1                  0                       0                              0   \n",
       "2                  0                       0                              0   \n",
       "3                  0                       0                              0   \n",
       "4                  0                       0                              0   \n",
       "\n",
       "  booking_changes deposit_type  days_in_waiting_list  customer_type    adr  \\\n",
       "0               0   No Deposit                     0      Transient   81.0   \n",
       "1               0   No Deposit                     0      Transient   93.6   \n",
       "2               0   No Deposit                     0       Contract  166.0   \n",
       "3               0   No Deposit                     0      Transient  107.0   \n",
       "4               0   No Deposit                     0      Transient  100.3   \n",
       "\n",
       "   required_car_parking_spaces total_of_special_requests  \n",
       "0                            1                         0  \n",
       "1                            0                         2  \n",
       "2                            0                         3  \n",
       "3                            0                         0  \n",
       "4                            0                         0  \n",
       "\n",
       "[5 rows x 25 columns]"
      ]
     },
     "execution_count": 17,
     "metadata": {},
     "output_type": "execute_result"
    }
   ],
   "source": [
    "# Закодируем часть категориальных признаков с помощью LabelEncoder()\n",
    "# а часть с помощью GetDummies()\n",
    "\n",
    "from sklearn import preprocessing\n",
    "\n",
    "# 1. Создадим модель кодировщика\n",
    "label_encoder = preprocessing.LabelEncoder() \n",
    "\n",
    "# 2. Обучение кодировщика: по сути тут создает словарь уникальных слов из переданного массива, \n",
    "# соотносит для каждого слова число\n",
    "label_encoder.fit(train['arrival_date_month']) \n",
    "\n",
    "# на этом этапе по сути применяет полученный словарь в переданным данных (в данном случае мы передали столбец число)\n",
    "train['arrival_date_month'] = label_encoder.transform(train['arrival_date_month']) \n",
    "# сразу используя этот кодировщик трансформируем данные теста\n",
    "test['arrival_date_month'] = label_encoder.transform(test['arrival_date_month']) \n",
    "\n",
    "train.head()"
   ]
  },
  {
   "cell_type": "code",
   "execution_count": 18,
   "metadata": {
    "colab": {
     "base_uri": "https://localhost:8080/"
    },
    "id": "TWOCc_aNiYtx",
    "outputId": "47815e21-5541-4b87-e0d6-085bd93a7b3e"
   },
   "outputs": [
    {
     "data": {
      "text/plain": [
       "array(['April', 'August', 'December', 'February', 'January', 'July',\n",
       "       'June', 'March', 'May', 'November', 'October', 'September'],\n",
       "      dtype=object)"
      ]
     },
     "execution_count": 18,
     "metadata": {},
     "output_type": "execute_result"
    }
   ],
   "source": [
    "label_encoder.classes_"
   ]
  },
  {
   "cell_type": "code",
   "execution_count": 19,
   "metadata": {
    "colab": {
     "base_uri": "https://localhost:8080/",
     "height": 424
    },
    "id": "3sbji9Q5eyIt",
    "outputId": "4afdd704-8283-4063-81b5-599e21589879"
   },
   "outputs": [
    {
     "data": {
      "text/html": [
       "<div>\n",
       "<style scoped>\n",
       "    .dataframe tbody tr th:only-of-type {\n",
       "        vertical-align: middle;\n",
       "    }\n",
       "\n",
       "    .dataframe tbody tr th {\n",
       "        vertical-align: top;\n",
       "    }\n",
       "\n",
       "    .dataframe thead th {\n",
       "        text-align: right;\n",
       "    }\n",
       "</style>\n",
       "<table border=\"1\" class=\"dataframe\">\n",
       "  <thead>\n",
       "    <tr style=\"text-align: right;\">\n",
       "      <th></th>\n",
       "      <th>hotel</th>\n",
       "      <th>meal</th>\n",
       "      <th>market_segment</th>\n",
       "      <th>distribution_channel</th>\n",
       "      <th>deposit_type</th>\n",
       "      <th>customer_type</th>\n",
       "    </tr>\n",
       "  </thead>\n",
       "  <tbody>\n",
       "    <tr>\n",
       "      <th>0</th>\n",
       "      <td>City Hotel</td>\n",
       "      <td>SC</td>\n",
       "      <td>Online TA</td>\n",
       "      <td>TA/TO</td>\n",
       "      <td>No Deposit</td>\n",
       "      <td>Transient</td>\n",
       "    </tr>\n",
       "    <tr>\n",
       "      <th>1</th>\n",
       "      <td>City Hotel</td>\n",
       "      <td>SC</td>\n",
       "      <td>Online TA</td>\n",
       "      <td>TA/TO</td>\n",
       "      <td>No Deposit</td>\n",
       "      <td>Transient</td>\n",
       "    </tr>\n",
       "    <tr>\n",
       "      <th>2</th>\n",
       "      <td>City Hotel</td>\n",
       "      <td>BB</td>\n",
       "      <td>Online TA</td>\n",
       "      <td>TA/TO</td>\n",
       "      <td>No Deposit</td>\n",
       "      <td>Transient</td>\n",
       "    </tr>\n",
       "    <tr>\n",
       "      <th>3</th>\n",
       "      <td>City Hotel</td>\n",
       "      <td>BB</td>\n",
       "      <td>Direct</td>\n",
       "      <td>Direct</td>\n",
       "      <td>No Deposit</td>\n",
       "      <td>Transient</td>\n",
       "    </tr>\n",
       "    <tr>\n",
       "      <th>4</th>\n",
       "      <td>Resort Hotel</td>\n",
       "      <td>BB</td>\n",
       "      <td>Groups</td>\n",
       "      <td>Corporate</td>\n",
       "      <td>No Deposit</td>\n",
       "      <td>Transient-Party</td>\n",
       "    </tr>\n",
       "    <tr>\n",
       "      <th>...</th>\n",
       "      <td>...</td>\n",
       "      <td>...</td>\n",
       "      <td>...</td>\n",
       "      <td>...</td>\n",
       "      <td>...</td>\n",
       "      <td>...</td>\n",
       "    </tr>\n",
       "    <tr>\n",
       "      <th>23520</th>\n",
       "      <td>City Hotel</td>\n",
       "      <td>BB</td>\n",
       "      <td>Offline TA/TO</td>\n",
       "      <td>TA/TO</td>\n",
       "      <td>No Deposit</td>\n",
       "      <td>Transient</td>\n",
       "    </tr>\n",
       "    <tr>\n",
       "      <th>23521</th>\n",
       "      <td>City Hotel</td>\n",
       "      <td>BB</td>\n",
       "      <td>Corporate</td>\n",
       "      <td>Corporate</td>\n",
       "      <td>No Deposit</td>\n",
       "      <td>Transient</td>\n",
       "    </tr>\n",
       "    <tr>\n",
       "      <th>23522</th>\n",
       "      <td>City Hotel</td>\n",
       "      <td>BB</td>\n",
       "      <td>Corporate</td>\n",
       "      <td>Corporate</td>\n",
       "      <td>No Deposit</td>\n",
       "      <td>Transient</td>\n",
       "    </tr>\n",
       "    <tr>\n",
       "      <th>23523</th>\n",
       "      <td>Resort Hotel</td>\n",
       "      <td>BB</td>\n",
       "      <td>Groups</td>\n",
       "      <td>TA/TO</td>\n",
       "      <td>No Deposit</td>\n",
       "      <td>Transient-Party</td>\n",
       "    </tr>\n",
       "    <tr>\n",
       "      <th>23524</th>\n",
       "      <td>Resort Hotel</td>\n",
       "      <td>HB</td>\n",
       "      <td>Online TA</td>\n",
       "      <td>TA/TO</td>\n",
       "      <td>No Deposit</td>\n",
       "      <td>Transient</td>\n",
       "    </tr>\n",
       "  </tbody>\n",
       "</table>\n",
       "<p>23525 rows × 6 columns</p>\n",
       "</div>"
      ],
      "text/plain": [
       "              hotel meal market_segment distribution_channel deposit_type  \\\n",
       "0        City Hotel   SC      Online TA                TA/TO   No Deposit   \n",
       "1        City Hotel   SC      Online TA                TA/TO   No Deposit   \n",
       "2        City Hotel   BB      Online TA                TA/TO   No Deposit   \n",
       "3        City Hotel   BB         Direct               Direct   No Deposit   \n",
       "4      Resort Hotel   BB         Groups            Corporate   No Deposit   \n",
       "...             ...  ...            ...                  ...          ...   \n",
       "23520    City Hotel   BB  Offline TA/TO                TA/TO   No Deposit   \n",
       "23521    City Hotel   BB      Corporate            Corporate   No Deposit   \n",
       "23522    City Hotel   BB      Corporate            Corporate   No Deposit   \n",
       "23523  Resort Hotel   BB         Groups                TA/TO   No Deposit   \n",
       "23524  Resort Hotel   HB      Online TA                TA/TO   No Deposit   \n",
       "\n",
       "         customer_type  \n",
       "0            Transient  \n",
       "1            Transient  \n",
       "2            Transient  \n",
       "3            Transient  \n",
       "4      Transient-Party  \n",
       "...                ...  \n",
       "23520        Transient  \n",
       "23521        Transient  \n",
       "23522        Transient  \n",
       "23523  Transient-Party  \n",
       "23524        Transient  \n",
       "\n",
       "[23525 rows x 6 columns]"
      ]
     },
     "execution_count": 19,
     "metadata": {},
     "output_type": "execute_result"
    }
   ],
   "source": [
    "test.loc[:, test.dtypes == object]"
   ]
  },
  {
   "cell_type": "code",
   "execution_count": 20,
   "metadata": {
    "colab": {
     "base_uri": "https://localhost:8080/"
    },
    "id": "WLOcwT26SqzV",
    "outputId": "50e5c990-ac2a-4435-bd79-0f236dc769e7"
   },
   "outputs": [
    {
     "data": {
      "text/plain": [
       "Index(['hotel', 'meal', 'market_segment', 'distribution_channel',\n",
       "       'deposit_type', 'customer_type'],\n",
       "      dtype='object')"
      ]
     },
     "execution_count": 20,
     "metadata": {},
     "output_type": "execute_result"
    }
   ],
   "source": [
    "test.loc[:, test.dtypes == object].columns"
   ]
  },
  {
   "cell_type": "code",
   "execution_count": 21,
   "metadata": {
    "colab": {
     "base_uri": "https://localhost:8080/",
     "height": 386
    },
    "id": "jMfOTZfzfV1k",
    "outputId": "22ddfde6-8659-4271-a43d-1f84cff000bf"
   },
   "outputs": [
    {
     "data": {
      "text/html": [
       "<div>\n",
       "<style scoped>\n",
       "    .dataframe tbody tr th:only-of-type {\n",
       "        vertical-align: middle;\n",
       "    }\n",
       "\n",
       "    .dataframe tbody tr th {\n",
       "        vertical-align: top;\n",
       "    }\n",
       "\n",
       "    .dataframe thead th {\n",
       "        text-align: right;\n",
       "    }\n",
       "</style>\n",
       "<table border=\"1\" class=\"dataframe\">\n",
       "  <thead>\n",
       "    <tr style=\"text-align: right;\">\n",
       "      <th></th>\n",
       "      <th>hotel</th>\n",
       "      <th>is_canceled</th>\n",
       "      <th>lead_time</th>\n",
       "      <th>arrival_date_year</th>\n",
       "      <th>arrival_date_month</th>\n",
       "      <th>arrival_date_week_number</th>\n",
       "      <th>arrival_date_day_of_month</th>\n",
       "      <th>stays_in_weekend_nights</th>\n",
       "      <th>stays_in_week_nights</th>\n",
       "      <th>adults</th>\n",
       "      <th>...</th>\n",
       "      <th>is_repeated_guest</th>\n",
       "      <th>previous_cancellations</th>\n",
       "      <th>previous_bookings_not_canceled</th>\n",
       "      <th>booking_changes</th>\n",
       "      <th>deposit_type</th>\n",
       "      <th>days_in_waiting_list</th>\n",
       "      <th>customer_type</th>\n",
       "      <th>adr</th>\n",
       "      <th>required_car_parking_spaces</th>\n",
       "      <th>total_of_special_requests</th>\n",
       "    </tr>\n",
       "  </thead>\n",
       "  <tbody>\n",
       "    <tr>\n",
       "      <th>0</th>\n",
       "      <td>Resort Hotel</td>\n",
       "      <td>0</td>\n",
       "      <td>3</td>\n",
       "      <td>2016</td>\n",
       "      <td>3</td>\n",
       "      <td>7</td>\n",
       "      <td>12</td>\n",
       "      <td>0</td>\n",
       "      <td>2</td>\n",
       "      <td>2</td>\n",
       "      <td>...</td>\n",
       "      <td>0</td>\n",
       "      <td>0</td>\n",
       "      <td>0</td>\n",
       "      <td>0</td>\n",
       "      <td>No Deposit</td>\n",
       "      <td>0</td>\n",
       "      <td>2</td>\n",
       "      <td>81.0</td>\n",
       "      <td>1</td>\n",
       "      <td>0</td>\n",
       "    </tr>\n",
       "    <tr>\n",
       "      <th>1</th>\n",
       "      <td>City Hotel</td>\n",
       "      <td>1</td>\n",
       "      <td>50</td>\n",
       "      <td>2016</td>\n",
       "      <td>9</td>\n",
       "      <td>47</td>\n",
       "      <td>18</td>\n",
       "      <td>1</td>\n",
       "      <td>2</td>\n",
       "      <td>2</td>\n",
       "      <td>...</td>\n",
       "      <td>0</td>\n",
       "      <td>0</td>\n",
       "      <td>0</td>\n",
       "      <td>0</td>\n",
       "      <td>No Deposit</td>\n",
       "      <td>0</td>\n",
       "      <td>2</td>\n",
       "      <td>93.6</td>\n",
       "      <td>0</td>\n",
       "      <td>2</td>\n",
       "    </tr>\n",
       "    <tr>\n",
       "      <th>2</th>\n",
       "      <td>City Hotel</td>\n",
       "      <td>0</td>\n",
       "      <td>14</td>\n",
       "      <td>2015</td>\n",
       "      <td>11</td>\n",
       "      <td>37</td>\n",
       "      <td>7</td>\n",
       "      <td>1</td>\n",
       "      <td>5</td>\n",
       "      <td>2</td>\n",
       "      <td>...</td>\n",
       "      <td>0</td>\n",
       "      <td>0</td>\n",
       "      <td>0</td>\n",
       "      <td>0</td>\n",
       "      <td>No Deposit</td>\n",
       "      <td>0</td>\n",
       "      <td>0</td>\n",
       "      <td>166.0</td>\n",
       "      <td>0</td>\n",
       "      <td>3</td>\n",
       "    </tr>\n",
       "    <tr>\n",
       "      <th>3</th>\n",
       "      <td>City Hotel</td>\n",
       "      <td>0</td>\n",
       "      <td>18</td>\n",
       "      <td>2015</td>\n",
       "      <td>2</td>\n",
       "      <td>50</td>\n",
       "      <td>6</td>\n",
       "      <td>2</td>\n",
       "      <td>0</td>\n",
       "      <td>2</td>\n",
       "      <td>...</td>\n",
       "      <td>0</td>\n",
       "      <td>0</td>\n",
       "      <td>0</td>\n",
       "      <td>0</td>\n",
       "      <td>No Deposit</td>\n",
       "      <td>0</td>\n",
       "      <td>2</td>\n",
       "      <td>107.0</td>\n",
       "      <td>0</td>\n",
       "      <td>0</td>\n",
       "    </tr>\n",
       "    <tr>\n",
       "      <th>4</th>\n",
       "      <td>City Hotel</td>\n",
       "      <td>1</td>\n",
       "      <td>263</td>\n",
       "      <td>2016</td>\n",
       "      <td>11</td>\n",
       "      <td>40</td>\n",
       "      <td>29</td>\n",
       "      <td>2</td>\n",
       "      <td>4</td>\n",
       "      <td>2</td>\n",
       "      <td>...</td>\n",
       "      <td>0</td>\n",
       "      <td>0</td>\n",
       "      <td>0</td>\n",
       "      <td>0</td>\n",
       "      <td>No Deposit</td>\n",
       "      <td>0</td>\n",
       "      <td>2</td>\n",
       "      <td>100.3</td>\n",
       "      <td>0</td>\n",
       "      <td>0</td>\n",
       "    </tr>\n",
       "  </tbody>\n",
       "</table>\n",
       "<p>5 rows × 25 columns</p>\n",
       "</div>"
      ],
      "text/plain": [
       "          hotel  is_canceled  lead_time  arrival_date_year  \\\n",
       "0  Resort Hotel            0          3               2016   \n",
       "1    City Hotel            1         50               2016   \n",
       "2    City Hotel            0         14               2015   \n",
       "3    City Hotel            0         18               2015   \n",
       "4    City Hotel            1        263               2016   \n",
       "\n",
       "   arrival_date_month  arrival_date_week_number  arrival_date_day_of_month  \\\n",
       "0                   3                         7                         12   \n",
       "1                   9                        47                         18   \n",
       "2                  11                        37                          7   \n",
       "3                   2                        50                          6   \n",
       "4                  11                        40                         29   \n",
       "\n",
       "   stays_in_weekend_nights  stays_in_week_nights  adults  ...  \\\n",
       "0                        0                     2       2  ...   \n",
       "1                        1                     2       2  ...   \n",
       "2                        1                     5       2  ...   \n",
       "3                        2                     0       2  ...   \n",
       "4                        2                     4       2  ...   \n",
       "\n",
       "   is_repeated_guest  previous_cancellations  previous_bookings_not_canceled  \\\n",
       "0                  0                       0                               0   \n",
       "1                  0                       0                               0   \n",
       "2                  0                       0                               0   \n",
       "3                  0                       0                               0   \n",
       "4                  0                       0                               0   \n",
       "\n",
       "   booking_changes  deposit_type  days_in_waiting_list  customer_type    adr  \\\n",
       "0                0    No Deposit                     0              2   81.0   \n",
       "1                0    No Deposit                     0              2   93.6   \n",
       "2                0    No Deposit                     0              0  166.0   \n",
       "3                0    No Deposit                     0              2  107.0   \n",
       "4                0    No Deposit                     0              2  100.3   \n",
       "\n",
       "   required_car_parking_spaces total_of_special_requests  \n",
       "0                            1                         0  \n",
       "1                            0                         2  \n",
       "2                            0                         3  \n",
       "3                            0                         0  \n",
       "4                            0                         0  \n",
       "\n",
       "[5 rows x 25 columns]"
      ]
     },
     "execution_count": 21,
     "metadata": {},
     "output_type": "execute_result"
    }
   ],
   "source": [
    "categ = ['market_segment', 'customer_type', 'meal', 'distribution_channel']\n",
    "\n",
    "# Encode Categorical Columns\n",
    "\n",
    "for col in categ:\n",
    "\n",
    "    # создание и обучение\n",
    "    le = preprocessing.LabelEncoder()\n",
    "    train[col] = le.fit_transform(train[col])\n",
    "\n",
    "    # преобразование теста\n",
    "    test[col] = le.transform(test[col])\n",
    "\n",
    "train.head()"
   ]
  },
  {
   "cell_type": "code",
   "execution_count": 22,
   "metadata": {
    "colab": {
     "base_uri": "https://localhost:8080/",
     "height": 317
    },
    "id": "-QL7anMfg30G",
    "outputId": "25d737c3-ca94-447d-b33a-001627f998dd"
   },
   "outputs": [
    {
     "data": {
      "text/html": [
       "<div>\n",
       "<style scoped>\n",
       "    .dataframe tbody tr th:only-of-type {\n",
       "        vertical-align: middle;\n",
       "    }\n",
       "\n",
       "    .dataframe tbody tr th {\n",
       "        vertical-align: top;\n",
       "    }\n",
       "\n",
       "    .dataframe thead th {\n",
       "        text-align: right;\n",
       "    }\n",
       "</style>\n",
       "<table border=\"1\" class=\"dataframe\">\n",
       "  <thead>\n",
       "    <tr style=\"text-align: right;\">\n",
       "      <th></th>\n",
       "      <th>is_canceled</th>\n",
       "      <th>lead_time</th>\n",
       "      <th>arrival_date_year</th>\n",
       "      <th>arrival_date_month</th>\n",
       "      <th>arrival_date_week_number</th>\n",
       "      <th>arrival_date_day_of_month</th>\n",
       "      <th>stays_in_weekend_nights</th>\n",
       "      <th>stays_in_week_nights</th>\n",
       "      <th>adults</th>\n",
       "      <th>children</th>\n",
       "      <th>...</th>\n",
       "      <th>market_segment_0</th>\n",
       "      <th>market_segment_1</th>\n",
       "      <th>market_segment_2</th>\n",
       "      <th>market_segment_3</th>\n",
       "      <th>market_segment_4</th>\n",
       "      <th>market_segment_5</th>\n",
       "      <th>market_segment_6</th>\n",
       "      <th>deposit_type_No Deposit</th>\n",
       "      <th>deposit_type_Non Refund</th>\n",
       "      <th>deposit_type_Refundable</th>\n",
       "    </tr>\n",
       "  </thead>\n",
       "  <tbody>\n",
       "    <tr>\n",
       "      <th>0</th>\n",
       "      <td>0</td>\n",
       "      <td>3</td>\n",
       "      <td>2016</td>\n",
       "      <td>3</td>\n",
       "      <td>7</td>\n",
       "      <td>12</td>\n",
       "      <td>0</td>\n",
       "      <td>2</td>\n",
       "      <td>2</td>\n",
       "      <td>0.0</td>\n",
       "      <td>...</td>\n",
       "      <td>0</td>\n",
       "      <td>0</td>\n",
       "      <td>0</td>\n",
       "      <td>1</td>\n",
       "      <td>0</td>\n",
       "      <td>0</td>\n",
       "      <td>0</td>\n",
       "      <td>1</td>\n",
       "      <td>0</td>\n",
       "      <td>0</td>\n",
       "    </tr>\n",
       "    <tr>\n",
       "      <th>1</th>\n",
       "      <td>1</td>\n",
       "      <td>50</td>\n",
       "      <td>2016</td>\n",
       "      <td>9</td>\n",
       "      <td>47</td>\n",
       "      <td>18</td>\n",
       "      <td>1</td>\n",
       "      <td>2</td>\n",
       "      <td>2</td>\n",
       "      <td>0.0</td>\n",
       "      <td>...</td>\n",
       "      <td>0</td>\n",
       "      <td>0</td>\n",
       "      <td>0</td>\n",
       "      <td>0</td>\n",
       "      <td>0</td>\n",
       "      <td>0</td>\n",
       "      <td>1</td>\n",
       "      <td>1</td>\n",
       "      <td>0</td>\n",
       "      <td>0</td>\n",
       "    </tr>\n",
       "    <tr>\n",
       "      <th>2</th>\n",
       "      <td>0</td>\n",
       "      <td>14</td>\n",
       "      <td>2015</td>\n",
       "      <td>11</td>\n",
       "      <td>37</td>\n",
       "      <td>7</td>\n",
       "      <td>1</td>\n",
       "      <td>5</td>\n",
       "      <td>2</td>\n",
       "      <td>2.0</td>\n",
       "      <td>...</td>\n",
       "      <td>0</td>\n",
       "      <td>0</td>\n",
       "      <td>0</td>\n",
       "      <td>0</td>\n",
       "      <td>0</td>\n",
       "      <td>0</td>\n",
       "      <td>1</td>\n",
       "      <td>1</td>\n",
       "      <td>0</td>\n",
       "      <td>0</td>\n",
       "    </tr>\n",
       "    <tr>\n",
       "      <th>3</th>\n",
       "      <td>0</td>\n",
       "      <td>18</td>\n",
       "      <td>2015</td>\n",
       "      <td>2</td>\n",
       "      <td>50</td>\n",
       "      <td>6</td>\n",
       "      <td>2</td>\n",
       "      <td>0</td>\n",
       "      <td>2</td>\n",
       "      <td>0.0</td>\n",
       "      <td>...</td>\n",
       "      <td>0</td>\n",
       "      <td>0</td>\n",
       "      <td>0</td>\n",
       "      <td>0</td>\n",
       "      <td>0</td>\n",
       "      <td>0</td>\n",
       "      <td>1</td>\n",
       "      <td>1</td>\n",
       "      <td>0</td>\n",
       "      <td>0</td>\n",
       "    </tr>\n",
       "    <tr>\n",
       "      <th>4</th>\n",
       "      <td>1</td>\n",
       "      <td>263</td>\n",
       "      <td>2016</td>\n",
       "      <td>11</td>\n",
       "      <td>40</td>\n",
       "      <td>29</td>\n",
       "      <td>2</td>\n",
       "      <td>4</td>\n",
       "      <td>2</td>\n",
       "      <td>0.0</td>\n",
       "      <td>...</td>\n",
       "      <td>0</td>\n",
       "      <td>0</td>\n",
       "      <td>0</td>\n",
       "      <td>0</td>\n",
       "      <td>0</td>\n",
       "      <td>0</td>\n",
       "      <td>1</td>\n",
       "      <td>1</td>\n",
       "      <td>0</td>\n",
       "      <td>0</td>\n",
       "    </tr>\n",
       "  </tbody>\n",
       "</table>\n",
       "<p>5 rows × 34 columns</p>\n",
       "</div>"
      ],
      "text/plain": [
       "   is_canceled  lead_time  arrival_date_year  arrival_date_month  \\\n",
       "0            0          3               2016                   3   \n",
       "1            1         50               2016                   9   \n",
       "2            0         14               2015                  11   \n",
       "3            0         18               2015                   2   \n",
       "4            1        263               2016                  11   \n",
       "\n",
       "   arrival_date_week_number  arrival_date_day_of_month  \\\n",
       "0                         7                         12   \n",
       "1                        47                         18   \n",
       "2                        37                          7   \n",
       "3                        50                          6   \n",
       "4                        40                         29   \n",
       "\n",
       "   stays_in_weekend_nights  stays_in_week_nights  adults  children  ...  \\\n",
       "0                        0                     2       2       0.0  ...   \n",
       "1                        1                     2       2       0.0  ...   \n",
       "2                        1                     5       2       2.0  ...   \n",
       "3                        2                     0       2       0.0  ...   \n",
       "4                        2                     4       2       0.0  ...   \n",
       "\n",
       "   market_segment_0  market_segment_1  market_segment_2  market_segment_3  \\\n",
       "0                 0                 0                 0                 1   \n",
       "1                 0                 0                 0                 0   \n",
       "2                 0                 0                 0                 0   \n",
       "3                 0                 0                 0                 0   \n",
       "4                 0                 0                 0                 0   \n",
       "\n",
       "   market_segment_4  market_segment_5  market_segment_6  \\\n",
       "0                 0                 0                 0   \n",
       "1                 0                 0                 1   \n",
       "2                 0                 0                 1   \n",
       "3                 0                 0                 1   \n",
       "4                 0                 0                 1   \n",
       "\n",
       "   deposit_type_No Deposit  deposit_type_Non Refund  deposit_type_Refundable  \n",
       "0                        1                        0                        0  \n",
       "1                        1                        0                        0  \n",
       "2                        1                        0                        0  \n",
       "3                        1                        0                        0  \n",
       "4                        1                        0                        0  \n",
       "\n",
       "[5 rows x 34 columns]"
      ]
     },
     "execution_count": 22,
     "metadata": {},
     "output_type": "execute_result"
    }
   ],
   "source": [
    "# Попробуем другой вариант кодировщика\n",
    "train = pd.get_dummies(train, columns=['hotel', 'market_segment', 'deposit_type'])\n",
    "\n",
    "train.head()"
   ]
  },
  {
   "cell_type": "code",
   "execution_count": 23,
   "metadata": {
    "colab": {
     "base_uri": "https://localhost:8080/"
    },
    "id": "yV-y0TdWhXsc",
    "outputId": "336c6a74-3f39-409f-9ca0-889e3addccd4"
   },
   "outputs": [
    {
     "data": {
      "text/plain": [
       "is_canceled                         int64\n",
       "lead_time                           int64\n",
       "arrival_date_year                   int64\n",
       "arrival_date_month                  int32\n",
       "arrival_date_week_number            int64\n",
       "arrival_date_day_of_month           int64\n",
       "stays_in_weekend_nights             int64\n",
       "stays_in_week_nights                int64\n",
       "adults                              int64\n",
       "children                          float64\n",
       "babies                              int64\n",
       "meal                                int32\n",
       "distribution_channel                int32\n",
       "is_repeated_guest                   int64\n",
       "previous_cancellations              int64\n",
       "previous_bookings_not_canceled      int64\n",
       "booking_changes                     int64\n",
       "days_in_waiting_list                int64\n",
       "customer_type                       int32\n",
       "adr                               float64\n",
       "required_car_parking_spaces         int64\n",
       "total_of_special_requests           int64\n",
       "hotel_City Hotel                    uint8\n",
       "hotel_Resort Hotel                  uint8\n",
       "market_segment_0                    uint8\n",
       "market_segment_1                    uint8\n",
       "market_segment_2                    uint8\n",
       "market_segment_3                    uint8\n",
       "market_segment_4                    uint8\n",
       "market_segment_5                    uint8\n",
       "market_segment_6                    uint8\n",
       "deposit_type_No Deposit             uint8\n",
       "deposit_type_Non Refund             uint8\n",
       "deposit_type_Refundable             uint8\n",
       "dtype: object"
      ]
     },
     "execution_count": 23,
     "metadata": {},
     "output_type": "execute_result"
    }
   ],
   "source": [
    "train.dtypes"
   ]
  },
  {
   "cell_type": "code",
   "execution_count": 24,
   "metadata": {
    "colab": {
     "base_uri": "https://localhost:8080/"
    },
    "id": "TdUXQ9SBf1uN",
    "outputId": "2d6b896b-bea6-416c-c464-6cb54a8f5291"
   },
   "outputs": [
    {
     "data": {
      "text/plain": [
       "lead_time                           int64\n",
       "arrival_date_year                   int64\n",
       "arrival_date_month                  int32\n",
       "arrival_date_week_number            int64\n",
       "arrival_date_day_of_month           int64\n",
       "stays_in_weekend_nights             int64\n",
       "stays_in_week_nights                int64\n",
       "adults                              int64\n",
       "children                          float64\n",
       "babies                              int64\n",
       "meal                                int32\n",
       "distribution_channel                int32\n",
       "is_repeated_guest                   int64\n",
       "previous_cancellations              int64\n",
       "previous_bookings_not_canceled      int64\n",
       "booking_changes                     int64\n",
       "days_in_waiting_list                int64\n",
       "customer_type                       int32\n",
       "adr                               float64\n",
       "required_car_parking_spaces         int64\n",
       "total_of_special_requests           int64\n",
       "hotel_City Hotel                    uint8\n",
       "hotel_Resort Hotel                  uint8\n",
       "market_segment_0                    uint8\n",
       "market_segment_1                    uint8\n",
       "market_segment_2                    uint8\n",
       "market_segment_3                    uint8\n",
       "market_segment_4                    uint8\n",
       "market_segment_5                    uint8\n",
       "market_segment_6                    uint8\n",
       "deposit_type_No Deposit             uint8\n",
       "deposit_type_Non Refund             uint8\n",
       "deposit_type_Refundable             uint8\n",
       "dtype: object"
      ]
     },
     "execution_count": 24,
     "metadata": {},
     "output_type": "execute_result"
    }
   ],
   "source": [
    "# Попробуем другой вариант кодировщика\n",
    "test = pd.get_dummies(test, columns=['hotel', 'market_segment', 'deposit_type'])\n",
    "\n",
    "test.dtypes"
   ]
  },
  {
   "cell_type": "markdown",
   "metadata": {
    "id": "ZZu6c22TOehx"
   },
   "source": [
    "## Обучение модели"
   ]
  },
  {
   "cell_type": "markdown",
   "metadata": {
    "id": "K41rZhCIOh7C"
   },
   "source": [
    "Теперь наши данные готовы для обучения модели."
   ]
  },
  {
   "cell_type": "code",
   "execution_count": 25,
   "metadata": {
    "id": "m4XItfjGOlrJ"
   },
   "outputs": [],
   "source": [
    "# Выделим вектор признаков и вектор ответов\n",
    "X = train.drop(columns=['is_canceled'])\n",
    "y = train['is_canceled']"
   ]
  },
  {
   "cell_type": "markdown",
   "metadata": {
    "id": "DwuP3okBO6Nm"
   },
   "source": [
    "Всего у нас получилось 33 признака."
   ]
  },
  {
   "cell_type": "code",
   "execution_count": 26,
   "metadata": {
    "colab": {
     "base_uri": "https://localhost:8080/"
    },
    "id": "8Kd-oWlyOyHz",
    "outputId": "d9c10166-492e-42b5-daaf-1a8312884055"
   },
   "outputs": [
    {
     "name": "stdout",
     "output_type": "stream",
     "text": [
      "X shape: (44638, 33)\n",
      "Y shape: (44638,)\n"
     ]
    }
   ],
   "source": [
    "print(f'X shape: {X.shape}')\n",
    "print(f'Y shape: {y.shape}')"
   ]
  },
  {
   "cell_type": "code",
   "execution_count": 35,
   "metadata": {
    "colab": {
     "base_uri": "https://localhost:8080/"
    },
    "id": "1fFN3800P8Al",
    "outputId": "690cde3f-73a1-4450-9c83-9630bddbe29d"
   },
   "outputs": [
    {
     "name": "stderr",
     "output_type": "stream",
     "text": [
      "C:\\Users\\Ivan\\anaconda3\\lib\\site-packages\\sklearn\\linear_model\\_logistic.py:814: ConvergenceWarning: lbfgs failed to converge (status=1):\n",
      "STOP: TOTAL NO. of ITERATIONS REACHED LIMIT.\n",
      "\n",
      "Increase the number of iterations (max_iter) or scale the data as shown in:\n",
      "    https://scikit-learn.org/stable/modules/preprocessing.html\n",
      "Please also refer to the documentation for alternative solver options:\n",
      "    https://scikit-learn.org/stable/modules/linear_model.html#logistic-regression\n",
      "  n_iter_i = _check_optimize_result(\n"
     ]
    }
   ],
   "source": [
    "from sklearn.linear_model import LogisticRegression\n",
    "\n",
    "# Создадим модель логистической регрессии\n",
    "model = LogisticRegression()\n",
    "\n",
    "# обучение модели\n",
    "model.fit(X, y)\n",
    "\n",
    "# предсказание ответов для тестовой выборки\n",
    "answers_pred = model.predict(X)"
   ]
  },
  {
   "cell_type": "code",
   "execution_count": 36,
   "metadata": {
    "colab": {
     "base_uri": "https://localhost:8080/"
    },
    "id": "ZI2Xkil8QLS6",
    "outputId": "158c5306-7c5d-4b53-f8be-cc57a84eef98"
   },
   "outputs": [
    {
     "name": "stdout",
     "output_type": "stream",
     "text": [
      "Accuracy: 0.8029257583225055\n",
      "Precision: 0.7880344074977532\n",
      "Recall: 0.462059620596206\n"
     ]
    }
   ],
   "source": [
    "from sklearn.metrics import accuracy_score, precision_score, recall_score\n",
    "\n",
    "# answers_pred - ответы которые вернула модель для X_test\n",
    "# y_test - это правильные ответы для X_test\n",
    "print(f'Accuracy: {accuracy_score(y, answers_pred)}')\n",
    "print(f'Precision: {precision_score(y, answers_pred)}')\n",
    "print(f'Recall: {recall_score(y, answers_pred)}')"
   ]
  },
  {
   "cell_type": "code",
   "execution_count": 37,
   "metadata": {
    "colab": {
     "base_uri": "https://localhost:8080/",
     "height": 340
    },
    "id": "4RJ4XcNmh_E7",
    "outputId": "b49de624-9441-4129-ab86-b148e99ab2a4"
   },
   "outputs": [
    {
     "name": "stderr",
     "output_type": "stream",
     "text": [
      "C:\\Users\\Ivan\\anaconda3\\lib\\site-packages\\sklearn\\utils\\deprecation.py:87: FutureWarning: Function plot_confusion_matrix is deprecated; Function `plot_confusion_matrix` is deprecated in 1.0 and will be removed in 1.2. Use one of the class methods: ConfusionMatrixDisplay.from_predictions or ConfusionMatrixDisplay.from_estimator.\n",
      "  warnings.warn(msg, category=FutureWarning)\n"
     ]
    },
    {
     "data": {
      "image/png": "[encoded data removed]",
      "text/plain": [
       "<Figure size 640x480 with 2 Axes>"
      ]
     },
     "metadata": {},
     "output_type": "display_data"
    }
   ],
   "source": [
    "from sklearn.metrics import plot_confusion_matrix, confusion_matrix\n",
    "\n",
    "plot_confusion_matrix(model, X, y)  \n",
    "plt.show()"
   ]
  },
  {
   "cell_type": "markdown",
   "metadata": {
    "id": "koVlQwT9kdMU"
   },
   "source": [
    "## Предсказание ответа для тестового набора данных"
   ]
  },
  {
   "cell_type": "code",
   "execution_count": 30,
   "metadata": {
    "colab": {
     "base_uri": "https://localhost:8080/"
    },
    "id": "SUKGwpxfurac",
    "outputId": "84f81640-fe15-4f9c-9355-52c5242981e5"
   },
   "outputs": [
    {
     "data": {
      "text/plain": [
       "(23525, 33)"
      ]
     },
     "execution_count": 30,
     "metadata": {},
     "output_type": "execute_result"
    }
   ],
   "source": [
    "test.shape"
   ]
  },
  {
   "cell_type": "code",
   "execution_count": 31,
   "metadata": {
    "id": "BA3CxJ1nkfkJ"
   },
   "outputs": [],
   "source": [
    "y_pred_test = model.predict(test)"
   ]
  },
  {
   "cell_type": "code",
   "execution_count": 32,
   "metadata": {
    "colab": {
     "base_uri": "https://localhost:8080/"
    },
    "id": "6BIYWvLwkpO3",
    "outputId": "69250ff3-e319-45d3-cefa-643770318c79"
   },
   "outputs": [
    {
     "data": {
      "text/plain": [
       "array([0, 0, 1, ..., 0, 0, 0], dtype=int64)"
      ]
     },
     "execution_count": 32,
     "metadata": {},
     "output_type": "execute_result"
    }
   ],
   "source": [
    "y_pred_test"
   ]
  },
  {
   "cell_type": "code",
   "execution_count": 34,
   "metadata": {
    "colab": {
     "base_uri": "https://localhost:8080/",
     "height": 17
    },
    "id": "tBObQdM4kh6c",
    "outputId": "81033b22-c404-4cde-f4fa-7a9d3d27a070"
   },
   "outputs": [],
   "source": [
    "y_pred_test = pd.DataFrame(y_pred_test, columns=['is_canceled'])\n",
    "y_pred_test = y_pred_test.reset_index()\n",
    "\n",
    "y_pred_test.to_csv(\"solution.csv\", index=False)"
   ]
  }
 ],
 "metadata": {
  "colab": {
   "provenance": []
  },
  "kernelspec": {
   "display_name": "Python 3 (ipykernel)",
   "language": "python",
   "name": "python3"
  },
  "language_info": {
   "codemirror_mode": {
    "name": "ipython",
    "version": 3
   },
   "file_extension": ".py",
   "mimetype": "text/x-python",
   "name": "python",
   "nbconvert_exporter": "python",
   "pygments_lexer": "ipython3",
   "version": "3.9.13"
  }
 },
 "nbformat": 4,
 "nbformat_minor": 4
}
